{
 "cells": [
  {
   "cell_type": "markdown",
   "metadata": {},
   "source": [
    "## Removing Column Krater Handles"
   ]
  },
  {
   "cell_type": "markdown",
   "metadata": {},
   "source": [
    "### Plan:\n",
    "\n",
    "1. Using the _Marching Squares Method_, find all the contours.\n",
    "1. Label the longest contour as the contour depicting the pot ouline.\n",
    "1. Find the contour showing the handle of the pot (either left or right).\n",
    "    - Get a list of the top 20 longest contours.\n",
    "    - Set up an allowable region for the handle to fall within.\n",
    "    - Select the furthermost contour, within that range, from the top 20 list, as the handle contour.\n",
    "1. If the left handle was found. Then limit outline contour, to that just of the left side. (Else, the right side should be used).\n",
    "1. Find the innermost side of the handle contour.\n",
    "1. Compute the shortest distance between the top of the handle contour, to the lid of the pot. Label that point on the lid as $p_{1}$.\n",
    "1. Given a range, look for points on the pot outline that stick out. We assume that these points will show the handle of the pot. Label the point on the pot outline, that shows the bottom of the handle, as $p_{2}$.\n",
    "1. Starting from the middle of the pot lid, travel along the pot outline contour until you get to $p_{1}$. From here, cut to the start of the handle contour and continue until the end. From the end of the handle contour, cut to point $p_{2}$. Then continue traversing the pot contour outline until reaching the end."
   ]
  },
  {
   "cell_type": "markdown",
   "metadata": {},
   "source": [
    "### Code:"
   ]
  },
  {
   "cell_type": "markdown",
   "metadata": {},
   "source": [
    "#### Imports"
   ]
  },
  {
   "cell_type": "code",
   "execution_count": 3,
   "metadata": {},
   "outputs": [],
   "source": [
    "import matplotlib.pyplot as plt \n",
    "import numpy as np\n",
    "import pylab as pl\n",
    "from math import sqrt\n",
    "from skimage.filters import threshold_otsu\n",
    "from skimage import measure\n",
    "import os\n",
    "import re\n",
    "import itertools as it\n",
    "import csv\n",
    "from PIL import Image\n",
    "from skimage.color import rgb2gray\n",
    "from skimage.filters import gaussian\n",
    "from skimage.segmentation import active_contour\n",
    "from skimage import data, img_as_float\n",
    "from skimage.segmentation import (morphological_chan_vese,\n",
    "                                  morphological_geodesic_active_contour,\n",
    "                                  inverse_gaussian_gradient,\n",
    "                                  checkerboard_level_set)\n",
    "pl.ion()"
   ]
  },
  {
   "cell_type": "markdown",
   "metadata": {},
   "source": [
    "#### Contour Outline Function"
   ]
  },
  {
   "cell_type": "code",
   "execution_count": 49,
   "metadata": {},
   "outputs": [],
   "source": [
    "def get_outline_contour(img):\n",
    "    \n",
    "    # Get all contours:\n",
    "    thresh = threshold_otsu(img)\n",
    "    binary = img > thresh\n",
    "    cont = measure.find_contours(binary, 0.8)\n",
    "    \n",
    "    # Find longest contour:\n",
    "    cont_ln = []\n",
    "    for n, contour in enumerate(cont):\n",
    "        cont_ln.append(len(contour))\n",
    "\n",
    "    longest_c = sorted(cont_ln,reverse=True)[:20]\n",
    "    long_ind = []\n",
    "    for i in range(0,len(cont_ln)):\n",
    "        if cont_ln[i] in longest_c:\n",
    "            long_ind.append(i)\n",
    "            \n",
    "    cl = cont[long_ind[0]]\n",
    "        \n",
    "    x = np.round(cl[:,1])\n",
    "    cl_ub = min(x) + ((max(x)-min(x))/4)\n",
    "    cl_lb = max(x) - ((max(x)-min(x))/4)\n",
    "    cl_lb = cl_ub - int((cl_ub - min(x))/4)\n",
    "    #cl_rng = list(range(cl_lb,cl_ub))\n",
    "\n",
    "    y = np.round(cl[:,0])\n",
    "    cl_ub_y = int(min(y) + ((max(y) - min(y))/4))\n",
    "    cl_lb_y = int(min(y) + ((max(y) - min(y))/12))\n",
    "    #cl_rng_y = list(range(cl_lb_y,cl_ub_y))\n",
    "    \n",
    "    hnd_conts_l = []\n",
    "    hnd_conts_r = []\n",
    "    x_furthest_l = []\n",
    "    x_furthest_r = []\n",
    "    for i in long_ind:\n",
    "        c = cont[i]\n",
    "        x = c[:,1]\n",
    "        y = c[:,0]\n",
    "        if max(x) < cl_ub and cl_lb_y < max(y) < cl_ub_y and cl_lb_y < min(y) < cl_ub_y:\n",
    "            hnd_conts_l.append(i)\n",
    "            x_furthest_l.append(max(x))\n",
    "        if min(x) > cl_lb and cl_lb_y < max(y) < cl_ub_y and cl_lb_y < min(y) < cl_ub_y:\n",
    "            hnd_conts_r.append(i)\n",
    "            x_furthest_r.append(min(x))\n",
    "            \n",
    "\n",
    "    a = np.argmin(np.array(x_furthest_l))\n",
    "    b = np.argmax(np.array(x_furthest_r))\n",
    "            \n",
    "    return cont[long_ind[0]],cont[hnd_conts_l[a]],cont[hnd_conts_r[b]]"
   ]
  },
  {
   "cell_type": "markdown",
   "metadata": {},
   "source": [
    "#### Handle Removal Code:"
   ]
  },
  {
   "cell_type": "code",
   "execution_count": 54,
   "metadata": {},
   "outputs": [],
   "source": [
    "def get_shortest_side(X,Y):\n",
    "    top_pnt = np.argmax(Y)\n",
    "    bot_pnt = np.argmin(Y)\n",
    "\n",
    "    mx_pnt = max(top_pnt,bot_pnt)\n",
    "    mn_pnt = min(top_pnt,bot_pnt)\n",
    "\n",
    "    xs1 = list(X[mn_pnt:mx_pnt])\n",
    "    ys1 = list(Y[mn_pnt:mx_pnt])\n",
    "\n",
    "    xs2 = list(X)[mx_pnt:] + list(X)[:mn_pnt] \n",
    "    ys2 = list(Y)[mx_pnt:] + list(Y)[:mn_pnt] \n",
    "    \n",
    "    if min(xs1) > min(xs2):\n",
    "        D1 = \"R\"\n",
    "        D2 = \"L\"\n",
    "    else:\n",
    "        D1 = \"L\"\n",
    "        D2 = \"R\"\n",
    "\n",
    "    if len(ys1) >= len(ys2):\n",
    "        ys = ys2\n",
    "        xs = xs2\n",
    "        D = D2\n",
    "    else:\n",
    "        ys = ys1\n",
    "        xs = xs1\n",
    "        D = D1\n",
    "\n",
    "    return xs,ys,D"
   ]
  },
  {
   "cell_type": "code",
   "execution_count": 74,
   "metadata": {},
   "outputs": [],
   "source": [
    "def smooth_side_contour(x,y,direction):\n",
    "    \n",
    "    ys = sorted(y)\n",
    "    ys = np.unique(np.round(ys))\n",
    "    y = np.round(y)\n",
    "    x = np.round(x)\n",
    "        \n",
    "    xs = []\n",
    "    for i in range(0,len(ys)):\n",
    "        inds = np.where(y==ys[i])\n",
    "        xy = x[inds]\n",
    "        if direction == 'R':\n",
    "            xs.append(max(xy))\n",
    "        else:\n",
    "            xs.append(min(xy))\n",
    "            \n",
    "    return xs,ys"
   ]
  },
  {
   "cell_type": "code",
   "execution_count": 62,
   "metadata": {},
   "outputs": [],
   "source": [
    "def get_top_bot_handle(x_,y_):\n",
    "\n",
    "    mx = np.argmax(y_)\n",
    "    mn = np.argmin(y_)\n",
    "    ubt = np.max(y_)\n",
    "    lbb = np.min(y_)\n",
    "    ubb = ubt - ((ubt - lbb)/10)\n",
    "    lbt = lbb + ((ubt - lbb)/10)\n",
    "\n",
    "    bot = []\n",
    "    top = []\n",
    "\n",
    "    for i in range(0,len(x_)):\n",
    "        if lbb <= y_[i] <= lbt:\n",
    "            bot.append(i)\n",
    "        if ubb <= y_[i] <= ubt:\n",
    "            top.append(i)\n",
    "    return top,bot"
   ]
  },
  {
   "cell_type": "code",
   "execution_count": 70,
   "metadata": {},
   "outputs": [],
   "source": [
    "def get_handle_side(x_,y_,top,bot,D):\n",
    "    if D == \"L\":\n",
    "        p1 = np.argmin(x_[top])\n",
    "        p2 = np.argmin(x_[bot])\n",
    "    else:\n",
    "        p1 = np.argmax(x_[top])\n",
    "        p2 = np.argmax(x_[bot])\n",
    "    \n",
    "\n",
    "    p1 = top[p1]\n",
    "    p2 = bot[p2]\n",
    "\n",
    "    # Determine direction of contour.\n",
    "    d_ = \"L\"\n",
    "    if (x_[p2] > x_[p2-1]) or (x_[p2] > x_[p2-2]):\n",
    "        d_ = \"R\"\n",
    "\n",
    "    xh = []\n",
    "    yh = []\n",
    "\n",
    "    x_2 = list(x_)\n",
    "    y_2 = list(y_)\n",
    "\n",
    "    # Case 1:\n",
    "    if (d_ == \"R\" and D == \"L\") or (d_ ==\"L\" and D == \"R\"):\n",
    "        if p1 > p2:\n",
    "            xh = x_2[p2:p1]\n",
    "            yh = y_2[p2:p1]\n",
    "        else:\n",
    "            xh = x_2[p2:]\n",
    "            xh.extend(x_2[0:p1])\n",
    "            yh = y_2[p2:]\n",
    "            yh.extend(y_2[0:p1])\n",
    "    # Case 2:        \n",
    "    elif (d_ == \"L\" and D == \"L\") or (d_ ==\"R\" and D == \"R\"):\n",
    "        if p1 > p2:\n",
    "            xh = x_2[p1:]\n",
    "            xh.extend(x_2[0:p2])\n",
    "            yh = y_2[p1:]\n",
    "            yh.extend(y_2[0:p2])\n",
    "        else:\n",
    "            xh = x_2[p1:p2]\n",
    "            yh = y_2[p1:p2]\n",
    "    \n",
    "    return xh,yh"
   ]
  },
  {
   "cell_type": "code",
   "execution_count": 88,
   "metadata": {},
   "outputs": [],
   "source": [
    "def get_ckrater_contour(img):\n",
    "    \n",
    "    # 1) Get pot and handle contours:\n",
    "    pot,h_l,h_r = get_outline_contour(img)\n",
    "    \n",
    "    # 2) Get shortest side of outline:\n",
    "    x = pot[:,1]\n",
    "    y = pot[:,0]\n",
    "    x_,y_,D = get_shortest_side(x,y)\n",
    "    \n",
    "    # 3) Make contour side smoother:\n",
    "    xs,ys = smooth_side_contour(x_,y_,D)\n",
    "    \n",
    "    # 4) Get side of handle:\n",
    "    if D == \"R\":\n",
    "        xh = h_r[:,1]\n",
    "        yh = h_r[:,0]\n",
    "    else:\n",
    "        xh = h_l[:,1]\n",
    "        yh = h_l[:,0]\n",
    "        \n",
    "    top,bot = get_top_bot_handle(xh,yh)\n",
    "    xh,yh = get_handle_side(xh,yh,top,bot,D)\n",
    "    \n",
    "    #5) Find points to make the cut:\n",
    "\n",
    "    if D == \"R\":\n",
    "        p1 = np.where(xs > max(xh))[0][0]\n",
    "    else:\n",
    "        p1 = np.where(xs < min(xh))[0][0]\n",
    "    \n",
    "    p1 = p1+1\n",
    "    \n",
    "    p2 = np.where(ys > max(yh))[0][0]\n",
    "\n",
    "    \n",
    "    #6) Make the cut:\n",
    "    # Check direction of handle contour first and sort accordingly.\n",
    "    if yh[0] > yh[round(len(yh)/2)]:\n",
    "        yh.reverse()\n",
    "        xh.reverse()\n",
    "        \n",
    "    xr = []\n",
    "    yr = []\n",
    "    xr.extend(xs[:p1])\n",
    "    yr.extend(ys[:p1])\n",
    "    xr.extend(xh)\n",
    "    yr.extend(yh)\n",
    "    xr.extend(xs[p2:])\n",
    "    yr.extend(ys[p2:])\n",
    "            \n",
    "    return xr,yr"
   ]
  },
  {
   "cell_type": "markdown",
   "metadata": {},
   "source": [
    "#### Test:"
   ]
  },
  {
   "cell_type": "code",
   "execution_count": 12,
   "metadata": {},
   "outputs": [],
   "source": [
    "image_grey = data.load('C:\\\\Users\\\\arian\\\\Dropbox\\\\arianna_phd\\\\Pots\\\\Original_Images\\\\colkrater_20578_London.bmp',as_gray=True)"
   ]
  },
  {
   "cell_type": "code",
   "execution_count": 86,
   "metadata": {},
   "outputs": [],
   "source": [
    "x,y = get_ckrater_contour(image_grey)"
   ]
  },
  {
   "cell_type": "code",
   "execution_count": 87,
   "metadata": {},
   "outputs": [
    {
     "data": {
      "text/plain": [
       "[<matplotlib.lines.Line2D at 0x29af642bf28>]"
      ]
     },
     "execution_count": 87,
     "metadata": {},
     "output_type": "execute_result"
    },
    {
     "data": {
      "image/png": "[encoded data removed]",
      "text/plain": [
       "<Figure size 288x432 with 1 Axes>"
      ]
     },
     "metadata": {
      "needs_background": "light"
     },
     "output_type": "display_data"
    }
   ],
   "source": [
    "fig, ax = plt.subplots(figsize=(4, 6))\n",
    "\n",
    "ax.imshow(image_grey, cmap=\"gray\")\n",
    "ax.set_axis_off()\n",
    "ax.plot(x,y,'-r')"
   ]
  },
  {
   "cell_type": "code",
   "execution_count": null,
   "metadata": {},
   "outputs": [],
   "source": []
  }
 ],
 "metadata": {
  "kernelspec": {
   "display_name": "Python 3",
   "language": "python",
   "name": "python3"
  },
  "language_info": {
   "codemirror_mode": {
    "name": "ipython",
    "version": 3
   },
   "file_extension": ".py",
   "mimetype": "text/x-python",
   "name": "python",
   "nbconvert_exporter": "python",
   "pygments_lexer": "ipython3",
   "version": "3.7.1"
  }
 },
 "nbformat": 4,
 "nbformat_minor": 2
}
