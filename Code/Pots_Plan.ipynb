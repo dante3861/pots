{
 "cells": [
  {
   "cell_type": "markdown",
   "metadata": {},
   "source": [
    "# Pots Plan"
   ]
  },
  {
   "cell_type": "markdown",
   "metadata": {},
   "source": [
    "## To-Do List"
   ]
  },
  {
   "cell_type": "markdown",
   "metadata": {},
   "source": [
    "- ~~Create algorithm that checks curvatures of pots to detect bad-angled pots.~~\n",
    "- Creata Python / MATLAB algorithm that computes rough classification of pots.\n",
    "- Algorithm to remove amphora handles.\n",
    "- ~~Algorithm to remove bell-krater handles.~~\n",
    "- ~~Algorithm to remove column-krater handles.~~\n",
    "- Register contours (after handles have been removed).\n",
    "- Register contours of whole pot (as opposed to half a pot).\n",
    "- Create Github repository for all pots code and pots paper."
   ]
  },
  {
   "cell_type": "markdown",
   "metadata": {},
   "source": [
    "## Extracting Contour Methods"
   ]
  },
  {
   "cell_type": "markdown",
   "metadata": {},
   "source": [
    "### Step 1: Remove bad-angled photos"
   ]
  },
  {
   "cell_type": "markdown",
   "metadata": {},
   "source": [
    "1. Extract rough pot outline.\n",
    "1. Select segments on the top and bottom of pot.\n",
    "1. Find the average curvature on the top segment and on the bottom segment.\n",
    "1. If curvature is beyond a certain range*, exclude pot from sample. \n",
    "\n",
    "<br> * Range to be determined."
   ]
  },
  {
   "cell_type": "markdown",
   "metadata": {},
   "source": [
    "### Step 2: Rough classification of pots"
   ]
  },
  {
   "cell_type": "markdown",
   "metadata": {},
   "source": [
    "1. Select best pot outlines, one for every main class of pot e.g. one amphora, $p_{A}$, one bell-krater, $p_{B}$ etc.\n",
    "1. Pairwise register each pot outline in the sample, to each class representative, and compute $\\mathbb{L}^{2}$-distances.\n",
    "    - In other words, for each pot, $p_{i}$, register* it to $p_{A}$, $p_{B}$.\n",
    "    - After registration, compute the distance between the $p_{A}$ and the registered $p'_{i}$. \n",
    "1. For each pot in the sample, label it as the class which gave the smallest $\\mathbb{L}^{2}$-distance.\n",
    "    - Can either rename the pot file e.g. \"Pot_1_Berlin\" changes to \"Pot_1_Berlin_amphora\" if the distance between $p'_{i}$ and $p_{A}$ was the smallest.\n",
    "    - Alternatively, can place files in different folders i.e. each pot labelled \"amphora\" will be moved into the \"amphora\" folder and so on.\n",
    "    \n",
    "<br> * Can potentially use the \"approximate DPA method\" to register since it's quite faster and this is only a rough classification. "
   ]
  },
  {
   "cell_type": "markdown",
   "metadata": {},
   "source": [
    "### Step 3: Remove handles from pots"
   ]
  },
  {
   "cell_type": "markdown",
   "metadata": {},
   "source": [
    "This step varies depending on the type of pot. So far, we've created algorithms to remove handles from Amphoras, Bell-Kraters and Column-Kraters. Some pots have similar style of handles so the same algorithm could potentially be used for multiple classes (e.g. bell-kraters and Hydrias both have handles that stick out, in a northward direction, that don't re-connect to the pot. Thus we can possibly use the same handle-removal-algorithm for both of these clases)."
   ]
  },
  {
   "cell_type": "markdown",
   "metadata": {},
   "source": [
    "#### Amphoras:\n",
    "\n",
    "1. Using the _Morphological Geodesic Active Contour_ method, get the contour depicting the outline of the pot.\n",
    "1. Since, for now, we want one side of the pot, choose the best side.\n",
    "    To do this, check which side has the longest contour and choose the side with the shortest contour length.\n",
    "1. Estimate the area where a handle can be found, (whether it's the left or right handle, depends on the previous step).\n",
    "1. Use the snake method (or _active contour_), to locate the handle.\n",
    "1. Get innermost side of handle.\n",
    "1. Find the point just below the lid, where the handle starts, $p_{1}$.\n",
    "1. Find the point on the pot, where the handle ends, $p_{2}$.\n",
    "1. Starting from the top of the pot (the lid), travel along the pot outline, to $p_{1}$. Then, from $p_{1}$, cut to the the side of the handle and travel across this. Finally, after traversing the handle, cut to point $p_{2}$ on the pot and continue travelling along the pot, until you get to the end of the pot contour.\n"
   ]
  },
  {
   "cell_type": "markdown",
   "metadata": {},
   "source": [
    "#### Bell-Kraters\n",
    "\n",
    "1. With the SKImage function 'find_contours' (which uses the _Marching squares method_) find the contour depicting the pot outline.\n",
    "1. Choose a side, left or right.\n",
    "1. Estimate location of handle*. \n",
    "1. Look for points in that estimated area, that stick out. We assume that these points will be the handle of the pot. Label the top and bottom of the handle as $p_{1}$ and $p_{2}$ respectively.\n",
    "1. Starting from the top of the pot, travel along the pot until you get to $p_{1}$. From here, cut straight to $p_{2}$ and then continue traversing along the pot contour until you reach the bottom of the pot.\n",
    "\n",
    "<br> * Currently, we assume that the handle lies within the 10th and 40th percentile of the pot (from the top downwards)."
   ]
  },
  {
   "cell_type": "markdown",
   "metadata": {},
   "source": [
    "#### Column Kraters:\n",
    "\n",
    "1. Using the _Marching Squares Method_, find all the contours.\n",
    "1. Label the longest contour as the contour depicting the pot ouline.\n",
    "1. Find the contour showing the handle of the pot (either left or right).\n",
    "    - Get a list of the top 20 longest contours.\n",
    "    - Set up an allowable region* for the handle to fall within.\n",
    "    - Select the furthermost contour, within that range, from the top 20 list, as the handle contour.\n",
    "1. If the left handle was found. Then limit outline contour, to that just of the left side. (Else, the right side should be used).\n",
    "1. Find the innermost side of the handle contour.\n",
    "1. Compute the shortest distance between the top of the handle contour, to the lid of the pot. Label that point on the lid as $p_{1}$.\n",
    "1. Given a range ^, look for points on the pot outline that stick out. We assume that these points will show the handle of the pot. Label the point on the pot outline, that shows the bottom of the handle, as $p_{2}$.\n",
    "1. Starting from the middle of the pot lid, travel along the pot outline contour until you get to $p_{1}$. From here, cut to the start of the handle contour and continue until the end. From the end of the handle contour, cut to point $p_{2}$. Then continue traversing the pot contour outline until reaching the end.\n",
    "\n",
    "<br> * We assume that the handle **contour** lies within the first third of the pot, along the width, and the first $\\frac{5}{12}$th of the pot along the height. \n",
    "<br> ^ We also assume that on the outline contour, the handle lies within the first fifth along the width and height of the pot. \n"
   ]
  },
  {
   "cell_type": "code",
   "execution_count": null,
   "metadata": {},
   "outputs": [],
   "source": []
  }
 ],
 "metadata": {
  "kernelspec": {
   "display_name": "Python 3",
   "language": "python",
   "name": "python3"
  },
  "language_info": {
   "codemirror_mode": {
    "name": "ipython",
    "version": 3
   },
   "file_extension": ".py",
   "mimetype": "text/x-python",
   "name": "python",
   "nbconvert_exporter": "python",
   "pygments_lexer": "ipython3",
   "version": "3.6.7"
  }
 },
 "nbformat": 4,
 "nbformat_minor": 2
}
