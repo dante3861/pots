{
 "cells": [
  {
   "cell_type": "markdown",
   "metadata": {},
   "source": [
    "## Removing Amphora Handles"
   ]
  },
  {
   "cell_type": "markdown",
   "metadata": {},
   "source": [
    "### Plan:\n",
    "\n",
    "1. Using the _Morphological Geodesic Active Contour_ method, get the contour depicting the outline of the pot.\n",
    "1. Since, for now, we want one side of the pot, choose the best side.\n",
    "    To do this, check which side has the longest contour and choose the side with the shortest contour length.\n",
    "1. Estimate the area where a handle can be found, (whether it's the left or right handle, depends on the previous step).\n",
    "1. Use the snake method (or _active contour_), to locate the handle.\n",
    "1. Get innermost side of handle.\n",
    "1. Find the point just below the lid, where the handle starts, $p_{1}$.\n",
    "1. Find the point on the pot, where the handle ends, $p_{2}$.\n",
    "1. Starting from the top of the pot (the lid), travel along the pot outline, to $p_{1}$. Then, from $p_{1}$, cut to the the side of the handle and travel across this. Finally, after traversing the handle, cut to point $p_{2}$ on the pot and continue travelling along the pot, until you get to the end of the pot contour.\n"
   ]
  },
  {
   "cell_type": "markdown",
   "metadata": {},
   "source": [
    "### Code:"
   ]
  },
  {
   "cell_type": "markdown",
   "metadata": {},
   "source": [
    "#### Imports"
   ]
  },
  {
   "cell_type": "code",
   "execution_count": 4,
   "metadata": {},
   "outputs": [],
   "source": [
    "import matplotlib.pyplot as plt \n",
    "import numpy as np\n",
    "import pylab as pl\n",
    "from math import sqrt\n",
    "from skimage.filters import threshold_otsu\n",
    "from skimage import measure\n",
    "import os\n",
    "import re\n",
    "import itertools as it\n",
    "import csv\n",
    "from PIL import Image\n",
    "from skimage.color import rgb2gray\n",
    "from skimage.filters import gaussian\n",
    "from skimage.segmentation import active_contour\n",
    "from skimage import data, img_as_float\n",
    "from skimage.segmentation import (morphological_chan_vese,\n",
    "                                  morphological_geodesic_active_contour,\n",
    "                                  inverse_gaussian_gradient,\n",
    "                                  checkerboard_level_set)\n",
    "pl.ion()"
   ]
  },
  {
   "cell_type": "markdown",
   "metadata": {},
   "source": [
    "#### Contour Outline Functions"
   ]
  },
  {
   "cell_type": "code",
   "execution_count": 19,
   "metadata": {},
   "outputs": [],
   "source": [
    "def get_pot_outline_contour(image):\n",
    "    gimage = inverse_gaussian_gradient(image)\n",
    "    # Initial level set\n",
    "    init_ls = np.zeros(image.shape, dtype=np.int8)\n",
    "    init_ls[10:-10, 10:-10] = 1\n",
    "    ls = morphological_geodesic_active_contour(gimage, 230, init_ls,\n",
    "                                               smoothing=1, balloon=-1,\n",
    "                                               threshold=0.69)\n",
    "    \n",
    "    fig, ax = plt.subplots(figsize=(10, 5))\n",
    "    v = ax.contour(ls, [0.5], colors='r')\n",
    "    t = v.collections[0].get_paths()\n",
    "    k = 0\n",
    "    for i in range(0,len(t)):\n",
    "        if len(t[i]) >= len(t[k]):\n",
    "            k = i\n",
    "    X, Y = v.collections[0].get_paths()[k].vertices.T\n",
    "    plt.close()\n",
    "    return X,Y"
   ]
  },
  {
   "cell_type": "code",
   "execution_count": 11,
   "metadata": {},
   "outputs": [],
   "source": [
    "def get_shortest_side(X,Y):\n",
    "    top_pnt = np.argmax(Y)\n",
    "    bot_pnt = np.argmin(Y)\n",
    "\n",
    "    mx_pnt = max(top_pnt,bot_pnt)\n",
    "    mn_pnt = min(top_pnt,bot_pnt)\n",
    "\n",
    "    xs1 = list(X[mn_pnt:mx_pnt])\n",
    "    ys1 = list(Y[mn_pnt:mx_pnt])\n",
    "\n",
    "    xs2 = list(X)[mx_pnt:] + list(X)[:mn_pnt] \n",
    "    ys2 = list(Y)[mx_pnt:] + list(Y)[:mn_pnt] \n",
    "    \n",
    "    if min(xs1) > min(xs2):\n",
    "        D1 = \"R\"\n",
    "        D2 = \"L\"\n",
    "    else:\n",
    "        D1 = \"L\"\n",
    "        D2 = \"R\"\n",
    "\n",
    "    if len(ys1) >= len(ys2):\n",
    "        ys = ys2\n",
    "        xs = xs2\n",
    "        D = D2\n",
    "    else:\n",
    "        ys = ys1\n",
    "        xs = xs1\n",
    "        D = D1\n",
    "\n",
    "    return xs,ys,D"
   ]
  },
  {
   "cell_type": "code",
   "execution_count": 146,
   "metadata": {},
   "outputs": [],
   "source": [
    "def get_handle_contour(image,X,Y,D):\n",
    "    topy = np.max(Y)\n",
    "    boty = np.min(Y)\n",
    "    topx = np.max(X)\n",
    "    botx = np.min(X)\n",
    "    tnth = round((topy - boty)/10,2)\n",
    "    sxth = round((topx-botx)/6,2)\n",
    "    c2 = boty + 2*tnth\n",
    "    if D == \"L\":\n",
    "        c1 = botx + sxth\n",
    "    else:\n",
    "        c1 = topx - sxth\n",
    "    a = sxth/2\n",
    "    b = tnth\n",
    "    s = np.linspace(0, 2*np.pi, 400)\n",
    "    xe = c1+a*np.cos(s)\n",
    "    ye = c2+b*np.sin(s)\n",
    "    init = np.array([xe,ye]).T\n",
    "    snake = active_contour(gaussian(image, 3),init,w_line=-5)\n",
    "    return snake[:,0],snake[:,1]"
   ]
  },
  {
   "cell_type": "markdown",
   "metadata": {},
   "source": [
    "#### Handle Removal Code:"
   ]
  },
  {
   "cell_type": "code",
   "execution_count": 151,
   "metadata": {},
   "outputs": [],
   "source": [
    "def get_top_bot_handle(x_,y_):\n",
    "\n",
    "    mx = np.argmax(y_)\n",
    "    mn = np.argmin(y_)\n",
    "    ubt = np.max(y_)\n",
    "    lbb = np.min(y_)\n",
    "    ubb = ubt - ((ubt - lbb)/10)\n",
    "    lbt = lbb + ((ubt - lbb)/10)\n",
    "\n",
    "    bot = []\n",
    "    top = []\n",
    "\n",
    "    for i in range(0,len(x_)):\n",
    "        if lbb <= y_[i] <= lbt:\n",
    "            bot.append(i)\n",
    "        if ubb <= y_[i] <= ubt:\n",
    "            top.append(i)\n",
    "    return top,bot"
   ]
  },
  {
   "cell_type": "code",
   "execution_count": 149,
   "metadata": {},
   "outputs": [],
   "source": [
    "def get_handle_side(x_,y_,top,bot,D):\n",
    "    if D == \"L\":\n",
    "        p1 = np.argmin(x_[top])\n",
    "        p2 = np.argmax(x_[bot])\n",
    "    else:\n",
    "        p1 = np.argmax(x_[top])\n",
    "        p2 = np.argmin(x_[bot])\n",
    "\n",
    "    p1 = top[p1]\n",
    "    p2 = bot[p2]\n",
    "\n",
    "    # Determine direction of contour.\n",
    "    d_ = \"L\"\n",
    "    if (x_[p2] > x_[p2-1]) or (x_[p2] > x_[p2-2]):\n",
    "        d_ = \"R\"\n",
    "\n",
    "    xh = []\n",
    "    yh = []\n",
    "\n",
    "    x_2 = list(x_)\n",
    "    y_2 = list(y_)\n",
    "\n",
    "    # Case 1:\n",
    "    if (d_ == \"R\" and D == \"L\") or (d_ ==\"L\" and D == \"R\"):\n",
    "        if p1 > p2:\n",
    "            xh = x_2[p2:p1]\n",
    "            yh = y_2[p2:p1]\n",
    "        else:\n",
    "            xh = x_2[p2:]\n",
    "            xh.extend(x_2[0:p1])\n",
    "            yh = y_2[p2:]\n",
    "            yh.extend(y_2[0:p1])\n",
    "    # Case 2:        \n",
    "    elif (d_ == \"L\" and D == \"L\") or (d_ ==\"R\" and D == \"R\"):\n",
    "        if p1 > p2:\n",
    "            xh = x_2[p1:]\n",
    "            xh.extend(x_2[0:p2])\n",
    "            yh = y_2[p1:]\n",
    "            yh.extend(y_2[0:p2])\n",
    "        else:\n",
    "            xh = x_2[p1:p2]\n",
    "            yh = y_2[p1:p2]\n",
    "    \n",
    "    return xh,yh"
   ]
  },
  {
   "cell_type": "code",
   "execution_count": 198,
   "metadata": {},
   "outputs": [],
   "source": [
    "def get_end_pot_lid(x,y,lb,ub,D,k):\n",
    "    inds = []\n",
    "    for i in range(1,len(x)-1):\n",
    "        if lb < y[i] < ub:\n",
    "            if k == 0:\n",
    "                if D == \"R\":\n",
    "                    if (x[i-1] >= x[i]) and (x[i+1] > x[i]):\n",
    "                        inds.append(i)\n",
    "                else:\n",
    "                    if (x[i-1] <= x[i]) and (x[i+1] < x[i]):\n",
    "                        inds.append(i)\n",
    "            else:\n",
    "                if D == \"R\":\n",
    "                    if (x[i-1] >= x[i]) and (x[i+1] >= x[i]):\n",
    "                        inds.append(i)\n",
    "                else:\n",
    "                    if (x[i-1] <= x[i]) and (x[i+1] <= x[i]):\n",
    "                        inds.append(i)\n",
    "    return inds"
   ]
  },
  {
   "cell_type": "code",
   "execution_count": 231,
   "metadata": {},
   "outputs": [],
   "source": [
    "def get_amphora_contour(img):\n",
    "    \n",
    "    # 1) Get pot and handle contours:\n",
    "    x,y = get_pot_outline_contour(image_grey)\n",
    "    \n",
    "    # 2) Get shortest side of outline:\n",
    "    xs,ys,d = get_shortest_side(x,y)\n",
    "    \n",
    "    #3) Fnid handle contour:\n",
    "    xh,yh = get_handle_contour(image_grey,x,y,d)\n",
    "    \n",
    "    #4) Get side of handle:\n",
    "    top,bot = get_top_bot_handle(xh,yh)\n",
    "    xhs,yhs = get_handle_side(xh,yh,top,bot,d)\n",
    "    \n",
    "    #5) Locate end of pot lid:\n",
    "    lb = min(ys)+(max(ys) - min(ys))/20\n",
    "    ub = min(min(ys)+(max(ys) - min(ys))/10,min(yh))\n",
    "    inds = get_end_pot_lid(xs,ys,lb,ub,d,0)\n",
    "    \n",
    "    if len(inds) == 0:\n",
    "        inds = get_end_pot_lid(xs,ys,lb,ub,d,1)\n",
    "        \n",
    "    p1 = inds[0]\n",
    "    \n",
    "    #6) Find end of handle\n",
    "    if ys[0] > ys[round(len(ys)/2)]:\n",
    "        ys.reverse()\n",
    "        xs.reverse()\n",
    "    \n",
    "    ub = max(yhs) + (max(yhs) - min(yhs))/5\n",
    "        \n",
    "    p2 = np.where(np.round(ys) > np.round(ub))[0][0]+1\n",
    "    \n",
    "    #7) Remove handles:    \n",
    "    if yhs[0] > yhs[round(len(yhs)/2)]:\n",
    "        yhs.reverse()\n",
    "        xhs.reverse()\n",
    "        \n",
    "    p3 = np.argmax(yhs) \n",
    "    \n",
    "    xr = []\n",
    "    yr = []\n",
    "    xr.extend(xs[:p1])\n",
    "    yr.extend(ys[:p1])\n",
    "    xr.extend(xhs[:p3])\n",
    "    yr.extend(yhs[:p3])\n",
    "    xr.extend(xs[p2:])\n",
    "    yr.extend(ys[p2:])\n",
    "            \n",
    "    return xr,yr"
   ]
  },
  {
   "cell_type": "markdown",
   "metadata": {},
   "source": [
    "#### Test:"
   ]
  },
  {
   "cell_type": "code",
   "execution_count": 209,
   "metadata": {},
   "outputs": [],
   "source": [
    "image_grey = data.load('C:\\\\Users\\\\arian\\\\Dropbox\\\\arianna_phd\\\\Pots\\\\Original_Images\\\\amphora_51_London.bmp',as_gray=True)"
   ]
  },
  {
   "cell_type": "code",
   "execution_count": 232,
   "metadata": {},
   "outputs": [],
   "source": [
    "x,y = get_amphora_contour(image_grey)"
   ]
  },
  {
   "cell_type": "code",
   "execution_count": 233,
   "metadata": {},
   "outputs": [
    {
     "data": {
      "text/plain": [
       "[<matplotlib.lines.Line2D at 0x277e9669a58>]"
      ]
     },
     "execution_count": 233,
     "metadata": {},
     "output_type": "execute_result"
    },
    {
     "data": {
      "image/png": "[encoded data removed]",
      "text/plain": [
       "<Figure size 288x432 with 1 Axes>"
      ]
     },
     "metadata": {
      "needs_background": "light"
     },
     "output_type": "display_data"
    }
   ],
   "source": [
    "fig, ax = plt.subplots(figsize=(4, 6))\n",
    "\n",
    "ax.imshow(image_grey, cmap=\"gray\")\n",
    "ax.set_axis_off()\n",
    "ax.plot(x,y,'-b')\n"
   ]
  }
 ],
 "metadata": {
  "kernelspec": {
   "display_name": "Python 3",
   "language": "python",
   "name": "python3"
  },
  "language_info": {
   "codemirror_mode": {
    "name": "ipython",
    "version": 3
   },
   "file_extension": ".py",
   "mimetype": "text/x-python",
   "name": "python",
   "nbconvert_exporter": "python",
   "pygments_lexer": "ipython3",
   "version": "3.7.1"
  }
 },
 "nbformat": 4,
 "nbformat_minor": 2
}
